{
 "cells": [
  {
   "cell_type": "code",
   "execution_count": 2,
   "id": "69379459",
   "metadata": {},
   "outputs": [],
   "source": [
    "import torch"
   ]
  },
  {
   "cell_type": "code",
   "execution_count": 3,
   "id": "d996d8a1",
   "metadata": {},
   "outputs": [],
   "source": [
    "checkpoint = torch.load(\"detr-r50-e632da11.pth\", map_location='cpu')"
   ]
  },
  {
   "cell_type": "code",
   "execution_count": 4,
   "id": "fcb7eb5b",
   "metadata": {},
   "outputs": [],
   "source": [
    "del checkpoint[\"model\"][\"class_embed.weight\"]\n",
    "del checkpoint[\"model\"][\"class_embed.bias\"]\n",
    "torch.save(checkpoint,\"detr-r50_no-class-head.pth\")"
   ]
  },
  {
   "cell_type": "code",
   "execution_count": null,
   "id": "64bbd8c8",
   "metadata": {},
   "outputs": [],
   "source": []
  }
 ],
 "metadata": {
  "kernelspec": {
   "display_name": "Python [conda env:.conda-mot_env] *",
   "language": "python",
   "name": "conda-env-.conda-mot_env-py"
  },
  "language_info": {
   "codemirror_mode": {
    "name": "ipython",
    "version": 3
   },
   "file_extension": ".py",
   "mimetype": "text/x-python",
   "name": "python",
   "nbconvert_exporter": "python",
   "pygments_lexer": "ipython3",
   "version": "3.8.18"
  }
 },
 "nbformat": 4,
 "nbformat_minor": 5
}
